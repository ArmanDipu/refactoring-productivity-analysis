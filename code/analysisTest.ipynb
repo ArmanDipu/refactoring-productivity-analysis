{
 "cells": [
  {
   "cell_type": "code",
   "execution_count": 47,
   "metadata": {},
   "outputs": [],
   "source": [
    "import git\n",
    "import subprocess\n",
    "import pandas as pd\n",
    "from pandas import json_normalize\n",
    "import json\n",
    "from collections import defaultdict\n",
    "import csv\n",
    "import os"
   ]
  },
  {
   "cell_type": "code",
   "execution_count": 48,
   "metadata": {},
   "outputs": [],
   "source": [
    "test_repository_path = \"C:\\\\Users\\\\arman\\\\Academic 7th Sem\\\\Metrics\\\\TestRepositories\\\\refactoring-toy-example\"\n",
    "base_dir = \"C:/Users/arman/Academic 7th Sem/Metrics/refactoring-productivity-analysis\""
   ]
  },
  {
   "cell_type": "code",
   "execution_count": 49,
   "metadata": {},
   "outputs": [
    {
     "data": {
      "text/plain": [
       "['d4bce13a443cf12da40a77c16c1e591f4f985b47',\n",
       " '9a5c33b16d07d62651ea80552e8782974c96bb8a',\n",
       " 'a5a7f852e45c7cadc8d1524bd4d14a1e39785aa5',\n",
       " '0bb0526b70870d57cbac9fcc8c4a7346a4ce5879',\n",
       " 'c286db365e7374fe4d08f54077abb7fba81dd296',\n",
       " 'f3b628f8f9c71a2cdfa052025c4a1ed78ee4c45d',\n",
       " 'ef3422578c0bcaef1561980ef077d06c3f6fc9f9',\n",
       " '1328d7873efe6caaffaf635424e19a4bb5e786a8',\n",
       " '3ce445fc6c67df447d30cc43556f204038e350c1',\n",
       " '0a46ed5c56c8b1576dfc92f3ec5bc2f0ea68aafe']"
      ]
     },
     "execution_count": 49,
     "metadata": {},
     "output_type": "execute_result"
    }
   ],
   "source": [
    "repo = git.Repo(test_repository_path)\n",
    "commit_shas = [commit.hexsha for commit in repo.iter_commits()]\n",
    "commit_shas[:10]"
   ]
  },
  {
   "cell_type": "code",
   "execution_count": 50,
   "metadata": {},
   "outputs": [],
   "source": [
    "refactorig_miner_test_command = [f\"{base_dir}/binaries/bin/RefactoringMiner.bat\", \"-h\"]\n",
    "refactorig_miner_test_command_mining = [f\"{base_dir}/binaries/bin/RefactoringMiner.bat\", \n",
    "                                        \"-a\",test_repository_path,\"-json\", f\"{base_dir}/Dataset/testDataAllBranch.json\"]"
   ]
  },
  {
   "cell_type": "markdown",
   "metadata": {},
   "source": [
    "### Test Run of Refactoring miner"
   ]
  },
  {
   "cell_type": "code",
   "execution_count": 51,
   "metadata": {},
   "outputs": [
    {
     "data": {
      "text/plain": [
       "'Total count: [Commits: 38, Errors: 0, Refactorings: 84]\\n'"
      ]
     },
     "execution_count": 51,
     "metadata": {},
     "output_type": "execute_result"
    }
   ],
   "source": [
    "executor_process = subprocess.Popen(refactorig_miner_test_command_mining, stdout=subprocess.PIPE, shell=True, text=True)\n",
    "output_text, _ = executor_process.communicate()\n",
    "output_text"
   ]
  },
  {
   "cell_type": "code",
   "execution_count": 52,
   "metadata": {},
   "outputs": [],
   "source": [
    "# Specify the path to your JSON file\n",
    "json_file_path = f\"{base_dir}/Dataset/testDataAllBranch.json\"\n",
    "csv_file_path = f\"{base_dir}/Dataset/refactoringDataset.csv\""
   ]
  },
  {
   "cell_type": "code",
   "execution_count": null,
   "metadata": {},
   "outputs": [],
   "source": [
    "file_empty = not os.path.isfile(csv_file_path) or os.path.getsize(csv_file_path) == 0\n",
    "\n",
    "with open(json_file_path, 'r') as json_file:\n",
    "    data = json.load(json_file)\n",
    "\n",
    "commit_refactoring_types = defaultdict(set)"
   ]
  },
  {
   "cell_type": "code",
   "execution_count": null,
   "metadata": {},
   "outputs": [],
   "source": [
    "for commit in data['commits']:\n",
    "    url = commit['url']\n",
    "\n",
    "    refactoring_types = set()\n",
    "\n",
    "    for refactoring in commit['refactorings']:\n",
    "        refactoring_type = refactoring['type']\n",
    "\n",
    "        refactoring_types.add(refactoring_type)\n",
    "\n",
    "    commit_refactoring_types[url] = refactoring_types"
   ]
  },
  {
   "cell_type": "code",
   "execution_count": null,
   "metadata": {},
   "outputs": [],
   "source": [
    "csv_data = []\n",
    "csv_headers = ['url', 'Extract Method', 'Move Field', 'Inline Method', 'Move Method', 'Pull Up Method', 'Pull Up Field',\n",
    "               'Extract Superclass', 'Extract Interface', 'Push Down Method', 'Push Down Field', 'total refactoring types']\n",
    "\n",
    "for commit in data['commits']:\n",
    "    url = commit['url']\n",
    "    refactoring_types = commit_refactoring_types[url]\n",
    "\n",
    "    row_data = [url]\n",
    "\n",
    "    for refactoring_type in csv_headers[1:-1]:\n",
    "        row_data.append(1 if refactoring_type in refactoring_types else 0)\n",
    "\n",
    "    row_data.append(len(refactoring_types))\n",
    "    csv_data.append(row_data)"
   ]
  },
  {
   "cell_type": "code",
   "execution_count": 67,
   "metadata": {},
   "outputs": [],
   "source": [
    "\n",
    "# Check if the CSV file is empty\n",
    "file_empty = not os.path.isfile(csv_file_path) or os.path.getsize(csv_file_path) == 0\n",
    "\n",
    "# Load JSON data from file\n",
    "with open(json_file_path, 'r') as json_file:\n",
    "    data = json.load(json_file)\n",
    "\n",
    "# Prepare data structures to store refactoring counts\n",
    "commit_refactoring_types = defaultdict(set)\n",
    "\n",
    "# Process each commit in the JSON data\n",
    "for commit in data['commits']:\n",
    "    url = commit['url']\n",
    "\n",
    "    # Initialize a set to store unique refactoring types for each commit\n",
    "    refactoring_types = set()\n",
    "\n",
    "    # Process each refactoring in the commit\n",
    "    for refactoring in commit['refactorings']:\n",
    "        refactoring_type = refactoring['type']\n",
    "\n",
    "        # Add refactoring type to the set\n",
    "        refactoring_types.add(refactoring_type)\n",
    "\n",
    "    # Update the set of refactoring types for the specific commit URL\n",
    "    commit_refactoring_types[url] = refactoring_types\n",
    "\n",
    "# Prepare data for writing to CSV\n",
    "csv_data = []\n",
    "csv_headers = ['url', 'Extract Method', 'Move Field', 'Inline Method', 'Move Method', 'Pull Up Method', 'Pull Up Field',\n",
    "               'Extract Superclass', 'Extract Interface', 'Push Down Method', 'Push Down Field', 'total refactoring types']\n",
    "\n",
    "\n",
    "# Append data for each commit\n",
    "for commit in data['commits']:\n",
    "    url = commit['url']\n",
    "    refactoring_types = commit_refactoring_types[url]\n",
    "\n",
    "    # Create a row for the CSV\n",
    "    row_data = [url]\n",
    "\n",
    "    # Append counts for each refactoring type\n",
    "    for refactoring_type in csv_headers[1:-1]:\n",
    "        row_data.append(1 if refactoring_type in refactoring_types else 0)\n",
    "\n",
    "    # Append the total number of unique refactoring types\n",
    "    row_data.append(len(refactoring_types))\n",
    "\n",
    "    csv_data.append(row_data)\n",
    "\n",
    "# Write data to CSV file\n",
    "with open(csv_file_path, 'a', newline='') as csv_file:\n",
    "    writer = csv.writer(csv_file)\n",
    "\n",
    "    # Write header only if the file is empty\n",
    "    if file_empty:\n",
    "        writer.writerow(csv_headers)\n",
    "\n",
    "    # Write data without duplicating URLs\n",
    "    existing_urls = set()\n",
    "    for row in csv_data:\n",
    "        if row[0] not in existing_urls:\n",
    "            writer.writerow(row)\n",
    "            existing_urls.add(row[0])\n"
   ]
  }
 ],
 "metadata": {
  "kernelspec": {
   "display_name": "venv",
   "language": "python",
   "name": "python3"
  },
  "language_info": {
   "codemirror_mode": {
    "name": "ipython",
    "version": 3
   },
   "file_extension": ".py",
   "mimetype": "text/x-python",
   "name": "python",
   "nbconvert_exporter": "python",
   "pygments_lexer": "ipython3",
   "version": "3.12.0"
  }
 },
 "nbformat": 4,
 "nbformat_minor": 2
}
