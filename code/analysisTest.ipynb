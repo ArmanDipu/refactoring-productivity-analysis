{
 "cells": [
  {
   "cell_type": "code",
   "execution_count": 67,
   "metadata": {},
   "outputs": [],
   "source": [
    "import git\n",
    "import subprocess"
   ]
  },
  {
   "cell_type": "code",
   "execution_count": 68,
   "metadata": {},
   "outputs": [],
   "source": [
    "test_repository_path = \"C:\\\\Users\\\\arman\\\\Academic 7th Sem\\\\Metrics\\\\TestRepositories\\\\refactoring-toy-example\"\n",
    "base_dir = \"C:/Users/arman/Academic 7th Sem/Metrics/refactoring-productivity-analysis\""
   ]
  },
  {
   "cell_type": "code",
   "execution_count": 69,
   "metadata": {},
   "outputs": [
    {
     "data": {
      "text/plain": [
       "['d4bce13a443cf12da40a77c16c1e591f4f985b47',\n",
       " '9a5c33b16d07d62651ea80552e8782974c96bb8a',\n",
       " 'a5a7f852e45c7cadc8d1524bd4d14a1e39785aa5',\n",
       " '0bb0526b70870d57cbac9fcc8c4a7346a4ce5879',\n",
       " 'c286db365e7374fe4d08f54077abb7fba81dd296',\n",
       " 'f3b628f8f9c71a2cdfa052025c4a1ed78ee4c45d',\n",
       " 'ef3422578c0bcaef1561980ef077d06c3f6fc9f9',\n",
       " '1328d7873efe6caaffaf635424e19a4bb5e786a8',\n",
       " '3ce445fc6c67df447d30cc43556f204038e350c1',\n",
       " '0a46ed5c56c8b1576dfc92f3ec5bc2f0ea68aafe']"
      ]
     },
     "execution_count": 69,
     "metadata": {},
     "output_type": "execute_result"
    }
   ],
   "source": [
    "repo = git.Repo(test_repository_path)\n",
    "commit_shas = [commit.hexsha for commit in repo.iter_commits()]\n",
    "commit_shas[:10]"
   ]
  },
  {
   "cell_type": "code",
   "execution_count": 70,
   "metadata": {},
   "outputs": [],
   "source": [
    "refactorig_miner_test_command = [f\"{base_dir}/binaries/bin/RefactoringMiner.bat\", \"-h\"]\n",
    "refactorig_miner_test_command_mining = [f\"{base_dir}/binaries/bin/RefactoringMiner.bat\", \"-a\",test_repository_path,\"-json\", f\"{base_dir}/Dataset/testDataAllBranch.json\"]"
   ]
  },
  {
   "cell_type": "markdown",
   "metadata": {},
   "source": [
    "### Test Run of Refactoring miner"
   ]
  },
  {
   "cell_type": "code",
   "execution_count": 71,
   "metadata": {},
   "outputs": [
    {
     "data": {
      "text/plain": [
       "'Total count: [Commits: 38, Errors: 0, Refactorings: 84]\\n'"
      ]
     },
     "execution_count": 71,
     "metadata": {},
     "output_type": "execute_result"
    }
   ],
   "source": [
    "executor_process = subprocess.Popen(refactorig_miner_test_command_mining, stdout=subprocess.PIPE, shell=True, text=True)\n",
    "output_text, _ = executor_process.communicate()\n",
    "output_text"
   ]
  }
 ],
 "metadata": {
  "kernelspec": {
   "display_name": "venv",
   "language": "python",
   "name": "python3"
  },
  "language_info": {
   "codemirror_mode": {
    "name": "ipython",
    "version": 3
   },
   "file_extension": ".py",
   "mimetype": "text/x-python",
   "name": "python",
   "nbconvert_exporter": "python",
   "pygments_lexer": "ipython3",
   "version": "3.12.0"
  }
 },
 "nbformat": 4,
 "nbformat_minor": 2
}
