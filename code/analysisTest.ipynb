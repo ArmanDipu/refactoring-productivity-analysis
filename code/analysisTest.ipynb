{
 "cells": [
  {
   "cell_type": "code",
   "execution_count": 2,
   "metadata": {},
   "outputs": [],
   "source": [
    "import git\n",
    "import subprocess\n",
    "import pandas as pd\n",
    "from pandas import json_normalize\n",
    "import json\n",
    "from collections import defaultdict\n",
    "import csv\n",
    "import os"
   ]
  },
  {
   "cell_type": "code",
   "execution_count": 48,
   "metadata": {},
   "outputs": [],
   "source": [
    "test_repository_path = \"E:/IUT/Seventh-Semister/SMP/Software Metrics/repositories/iosched\"\n",
    "base_dir = \"E:/IUT/Seventh-Semister/SMP/Software Metrics/refactoring-productivity-analysis\""
   ]
  },
  {
   "cell_type": "code",
   "execution_count": 49,
   "metadata": {},
   "outputs": [
    {
     "data": {
      "text/plain": [
       "['738e1e008096fad5f36612325275e80c33dbe436',\n",
       " '3e4719b7ee24def7d6330dd2f736539d017da05f',\n",
       " '79ffcfef9fdbcf749dc09bba3dc504c240758be7',\n",
       " '117d1a98800696154d2b0b11389b743f0f9b3a9d',\n",
       " 'e489d895d97c177f2adc904b113b46d03b439d93',\n",
       " 'e1c07c6aa95968c6bab74143dc9ceaaafb43685f',\n",
       " '1ffc1a8c60ee2a3376e8882022d573d2e417c036',\n",
       " 'b3b457292fffd077fd9a8a363ab14533b2e3c143',\n",
       " 'aa45aea51c630a040f3e782f0c47d895861597f7',\n",
       " 'e8489355ff88cea6d875c8cdae219160d1602281']"
      ]
     },
     "execution_count": 49,
     "metadata": {},
     "output_type": "execute_result"
    }
   ],
   "source": [
    "repo = git.Repo(test_repository_path)\n",
    "commit_shas = [commit.hexsha for commit in repo.iter_commits()]\n",
    "commit_shas[:10]"
   ]
  },
  {
   "cell_type": "code",
   "execution_count": 50,
   "metadata": {},
   "outputs": [],
   "source": [
    "refactorig_miner_test_command = [f\"{base_dir}/binaries/bin/RefactoringMiner.bat\", \"-h\"]\n",
    "refactorig_miner_test_command_mining = [f\"{base_dir}/binaries/bin/RefactoringMiner.bat\", \n",
    "                                        \"-a\",test_repository_path,\"-json\", f\"{base_dir}/Dataset/testDataAllBranch.json\"]"
   ]
  },
  {
   "cell_type": "markdown",
   "metadata": {},
   "source": [
    "### Test Run of Refactoring miner"
   ]
  },
  {
   "cell_type": "code",
   "execution_count": 51,
   "metadata": {},
   "outputs": [
    {
     "data": {
      "text/plain": [
       "'Total count: [Commits: 3421, Errors: 0, Refactorings: 5228]\\n'"
      ]
     },
     "execution_count": 51,
     "metadata": {},
     "output_type": "execute_result"
    }
   ],
   "source": [
    "executor_process = subprocess.Popen(refactorig_miner_test_command_mining, stdout=subprocess.PIPE, shell=True, text=True)\n",
    "output_text, _ = executor_process.communicate()\n",
    "output_text"
   ]
  },
  {
   "cell_type": "code",
   "execution_count": 52,
   "metadata": {},
   "outputs": [],
   "source": [
    "# Specify the path to your JSON file\n",
    "json_file_path = f\"{base_dir}/Dataset/testDataAllBranch.json\"\n",
    "csv_file_path = f\"{base_dir}/Dataset/refactoringDataset.csv\""
   ]
  },
  {
   "cell_type": "code",
   "execution_count": 53,
   "metadata": {},
   "outputs": [],
   "source": [
    "file_empty = not os.path.isfile(csv_file_path) or os.path.getsize(csv_file_path) == 0\n",
    "\n",
    "with open(json_file_path, 'r') as json_file:\n",
    "    data = json.load(json_file)\n",
    "\n",
    "commit_refactoring_types = defaultdict(set)"
   ]
  },
  {
   "cell_type": "code",
   "execution_count": 54,
   "metadata": {},
   "outputs": [],
   "source": [
    "for commit in data['commits']:\n",
    "    url = commit['url']\n",
    "\n",
    "    refactoring_types = set()\n",
    "\n",
    "    for refactoring in commit['refactorings']:\n",
    "        refactoring_type = refactoring['type']\n",
    "\n",
    "        refactoring_types.add(refactoring_type)\n",
    "\n",
    "    commit_refactoring_types[url] = refactoring_types"
   ]
  },
  {
   "cell_type": "code",
   "execution_count": 55,
   "metadata": {},
   "outputs": [],
   "source": [
    "csv_data = []\n",
    "csv_headers = ['url', 'Extract Method', 'Move Field', 'Inline Method', 'Move Method', 'Pull Up Method', 'Pull Up Field',\n",
    "               'Extract Superclass', 'Extract Interface', 'Push Down Method', 'Push Down Field', 'total refactoring types']\n",
    "\n",
    "for commit in data['commits']:\n",
    "    url = commit['url']\n",
    "    refactoring_types = commit_refactoring_types[url]\n",
    "\n",
    "    row_data = [url]\n",
    "\n",
    "    for refactoring_type in csv_headers[1:-1]:\n",
    "        row_data.append(1 if refactoring_type in refactoring_types else 0)\n",
    "\n",
    "    row_data.append(len(refactoring_types))\n",
    "    csv_data.append(row_data)"
   ]
  },
  {
   "cell_type": "code",
   "execution_count": 56,
   "metadata": {},
   "outputs": [],
   "source": [
    "\n",
    "# Check if the CSV file is empty\n",
    "file_empty = not os.path.isfile(csv_file_path) or os.path.getsize(csv_file_path) == 0\n",
    "\n",
    "# Load JSON data from file\n",
    "with open(json_file_path, 'r') as json_file:\n",
    "    data = json.load(json_file)\n",
    "\n",
    "# Prepare data structures to store refactoring counts\n",
    "commit_refactoring_types = defaultdict(set)\n",
    "\n",
    "# Process each commit in the JSON data\n",
    "for commit in data['commits']:\n",
    "    url = commit['url']\n",
    "\n",
    "    # Initialize a set to store unique refactoring types for each commit\n",
    "    refactoring_types = set()\n",
    "\n",
    "    # Process each refactoring in the commit\n",
    "    for refactoring in commit['refactorings']:\n",
    "        refactoring_type = refactoring['type']\n",
    "\n",
    "        # Add refactoring type to the set\n",
    "        refactoring_types.add(refactoring_type)\n",
    "\n",
    "    # Update the set of refactoring types for the specific commit URL\n",
    "    commit_refactoring_types[url] = refactoring_types\n",
    "\n",
    "# Prepare data for writing to CSV\n",
    "csv_data = []\n",
    "csv_headers = ['url', 'Extract Method', 'Move Field', 'Inline Method', 'Move Method', 'Pull Up Method', 'Pull Up Field',\n",
    "               'Extract Superclass', 'Extract Interface', 'Push Down Method', 'Push Down Field', 'total refactoring types']\n",
    "\n",
    "\n",
    "# Append data for each commit\n",
    "for commit in data['commits']:\n",
    "    url = commit['url']\n",
    "    refactoring_types = commit_refactoring_types[url]\n",
    "\n",
    "    # Create a row for the CSV\n",
    "    row_data = [url]\n",
    "\n",
    "    # Append counts for each refactoring type\n",
    "    for refactoring_type in csv_headers[1:-1]:\n",
    "        row_data.append(1 if refactoring_type in refactoring_types else 0)\n",
    "\n",
    "    # Append the total number of unique refactoring types\n",
    "    row_data.append(len(refactoring_types))\n",
    "\n",
    "    csv_data.append(row_data)\n",
    "\n",
    "# Write data to CSV file\n",
    "with open(csv_file_path, 'a', newline='') as csv_file:\n",
    "    writer = csv.writer(csv_file)\n",
    "\n",
    "    # Write header only if the file is empty\n",
    "    if file_empty:\n",
    "        writer.writerow(csv_headers)\n",
    "\n",
    "    # Write data without duplicating URLs\n",
    "    existing_urls = set()\n",
    "    for row in csv_data:\n",
    "        if row[0] not in existing_urls:\n",
    "            writer.writerow(row)\n",
    "            existing_urls.add(row[0])\n"
   ]
  },
  {
   "cell_type": "markdown",
   "metadata": {},
   "source": [
    "## Filter data of our interest"
   ]
  },
  {
   "cell_type": "code",
   "execution_count": 21,
   "metadata": {},
   "outputs": [],
   "source": [
    "\n",
    "# Read the CSV file into a pandas DataFrame\n",
    "data = pd.read_csv(csv_file_path)\n",
    "\n",
    "# Filter rows where 'total refactoring types' is not equal to 0\n",
    "filtered_data = data[data['total refactoring types'] != 0]\n",
    "\n",
    "\n",
    "# Save the filtered data to a new CSV file\n",
    "filtered_data.to_csv(f\"{base_dir}/Dataset/refactoringDatasetFiltered.csv\", index=False)"
   ]
  }
 ],
 "metadata": {
  "kernelspec": {
   "display_name": "venv",
   "language": "python",
   "name": "python3"
  },
  "language_info": {
   "codemirror_mode": {
    "name": "ipython",
    "version": 3
   },
   "file_extension": ".py",
   "mimetype": "text/x-python",
   "name": "python",
   "nbconvert_exporter": "python",
   "pygments_lexer": "ipython3",
   "version": "3.10.1"
  }
 },
 "nbformat": 4,
 "nbformat_minor": 2
}
